{
 "cells": [
  {
   "cell_type": "code",
   "execution_count": 1,
   "metadata": {},
   "outputs": [],
   "source": [
    "import pandas\n",
    "import matplotlib\n",
    "import seaborn\n",
    "\n",
    "from functools import partial\n",
    "\n",
    "import dateutil\n",
    "import datetime\n",
    "import itertools\n",
    "import os\n",
    "\n",
    "from faker import Faker\n",
    "from statsmodels.duration.survfunc import SurvfuncRight\n",
    "from scipy.stats import mannwhitneyu"
   ]
  },
  {
   "cell_type": "code",
   "execution_count": 2,
   "metadata": {},
   "outputs": [],
   "source": [
    "%matplotlib inline\n",
    "\n",
    "# Use to restrict x-axis when displaying time-related data\n",
    "DATE_RANGE = (pandas.to_datetime('2016-09'), pandas.to_datetime('2019-06-01'))\n",
    "\n",
    "FIG_SIZE = (7, 2.5)\n",
    "PALETTE = seaborn.color_palette()\n",
    "matplotlib.rcParams['figure.figsize'] = FIG_SIZE\n",
    "\n",
    "def savefig(fig, name):\n",
    "    fig.savefig(\n",
    "        os.path.join('..', 'figures', '{}.pdf'.format(name)),\n",
    "        bbox_inches='tight'\n",
    "    )"
   ]
  },
  {
   "cell_type": "markdown",
   "metadata": {},
   "source": [
    "# Model definition\n",
    "\n",
    "We use survival analysis on the recent past activity of each contributor/project to estimate its next inactivity period duration. \n",
    "As the model is based on survival analyses, it is a probabilistic model, i.e., it provides a probability distribution. "
   ]
  },
  {
   "cell_type": "markdown",
   "metadata": {},
   "source": [
    "## Survival analysis"
   ]
  },
  {
   "cell_type": "code",
   "execution_count": 3,
   "metadata": {},
   "outputs": [],
   "source": [
    "def dates_to_duration(dates, *, window_size=20, current=None):\n",
    "    \"\"\"\n",
    "    Convert a list of datetimes into a list of durations (between consecutive dates).\n",
    "    Datetimes could be provided as unordered strings representing dates. \n",
    "    The resulting list is composed 'window_size' durations between consecutive dates d such that\n",
    "    d <= current.\n",
    "    \"\"\"\n",
    "    if current is None:\n",
    "        current = datetime.date.today()\n",
    "    else:\n",
    "        current = dateutil.parser.parse(current).date()\n",
    "    \n",
    "    kept = set()\n",
    "    # threshold = current - dateutil.relativedelta.relativedelta(days=window_size)\n",
    "    for date in dates:\n",
    "        date = dateutil.parser.parse(date).date()\n",
    "        if date <= current:\n",
    "            kept.add(date)\n",
    "        # No \"else\", because we don't know if \"dates\" is sorted\n",
    "    \n",
    "    kept = sorted(kept)[-window_size - 1:]  # -1 because intervals vs. bounds\n",
    "    durations = []\n",
    "    for first, second in zip(kept[:-1], kept[1:]):\n",
    "        duration = (second - first).days\n",
    "        durations.append(duration)\n",
    "    \n",
    "    return durations"
   ]
  },
  {
   "cell_type": "code",
   "execution_count": 4,
   "metadata": {},
   "outputs": [],
   "source": [
    "def model(durations, probabilities=[0.5, 0.75, 0.9], *, return_surv=False):\n",
    "    \"\"\"\n",
    "    Return the durations corresponding to given probabilities, using survival analysis.\n",
    "    \"\"\"\n",
    "    surv = SurvfuncRight(durations, [1] * len(durations))\n",
    "    if return_surv:\n",
    "        return surv\n",
    "    else:\n",
    "        return [surv.quantile(p) for p in probabilities]"
   ]
  },
  {
   "cell_type": "markdown",
   "metadata": {},
   "source": [
    "# Model validation"
   ]
  },
  {
   "cell_type": "markdown",
   "metadata": {},
   "source": [
    "## Prepare dataset"
   ]
  },
  {
   "cell_type": "markdown",
   "metadata": {},
   "source": [
    "The dataset that will be used to assess whether our model is effective or not is based on the commit information of Cargo packages."
   ]
  },
  {
   "cell_type": "code",
   "execution_count": 5,
   "metadata": {},
   "outputs": [],
   "source": [
    "df_raw = (\n",
    "    pandas.read_csv('../data/cargo.csv.gz')\n",
    "    .assign(date=lambda d: pandas.to_datetime(d['date']))\n",
    "    .dropna(subset=['truth'])\n",
    ")"
   ]
  },
  {
   "cell_type": "code",
   "execution_count": 6,
   "metadata": {},
   "outputs": [
    {
     "data": {
      "text/html": [
       "<div>\n",
       "<style scoped>\n",
       "    .dataframe tbody tr th:only-of-type {\n",
       "        vertical-align: middle;\n",
       "    }\n",
       "\n",
       "    .dataframe tbody tr th {\n",
       "        vertical-align: top;\n",
       "    }\n",
       "\n",
       "    .dataframe thead th {\n",
       "        text-align: right;\n",
       "    }\n",
       "</style>\n",
       "<table border=\"1\" class=\"dataframe\">\n",
       "  <thead>\n",
       "    <tr style=\"text-align: right;\">\n",
       "      <th></th>\n",
       "      <th>author</th>\n",
       "      <th>author_name</th>\n",
       "      <th>project</th>\n",
       "      <th>date</th>\n",
       "      <th>commits</th>\n",
       "      <th>duration</th>\n",
       "      <th>truth</th>\n",
       "    </tr>\n",
       "  </thead>\n",
       "  <tbody>\n",
       "    <tr>\n",
       "      <th>0</th>\n",
       "      <td>aepsil0n</td>\n",
       "      <td>Eduard Bopp</td>\n",
       "      <td>aepsil0n/acacia</td>\n",
       "      <td>2014-11-28</td>\n",
       "      <td>2</td>\n",
       "      <td>NaN</td>\n",
       "      <td>1 days 00:00:00</td>\n",
       "    </tr>\n",
       "    <tr>\n",
       "      <th>1</th>\n",
       "      <td>aepsil0n</td>\n",
       "      <td>Eduard Bopp</td>\n",
       "      <td>aepsil0n/acacia</td>\n",
       "      <td>2014-11-29</td>\n",
       "      <td>4</td>\n",
       "      <td>1 days 00:00:00</td>\n",
       "      <td>3 days 00:00:00</td>\n",
       "    </tr>\n",
       "    <tr>\n",
       "      <th>2</th>\n",
       "      <td>aepsil0n</td>\n",
       "      <td>Eduard Bopp</td>\n",
       "      <td>aepsil0n/acacia</td>\n",
       "      <td>2014-12-02</td>\n",
       "      <td>7</td>\n",
       "      <td>3 days 00:00:00</td>\n",
       "      <td>1 days 00:00:00</td>\n",
       "    </tr>\n",
       "    <tr>\n",
       "      <th>3</th>\n",
       "      <td>aepsil0n</td>\n",
       "      <td>Eduard Bopp</td>\n",
       "      <td>aepsil0n/acacia</td>\n",
       "      <td>2014-12-03</td>\n",
       "      <td>1</td>\n",
       "      <td>1 days 00:00:00</td>\n",
       "      <td>1 days 00:00:00</td>\n",
       "    </tr>\n",
       "    <tr>\n",
       "      <th>4</th>\n",
       "      <td>aepsil0n</td>\n",
       "      <td>Eduard Bopp</td>\n",
       "      <td>aepsil0n/acacia</td>\n",
       "      <td>2014-12-04</td>\n",
       "      <td>20</td>\n",
       "      <td>1 days 00:00:00</td>\n",
       "      <td>6 days 00:00:00</td>\n",
       "    </tr>\n",
       "  </tbody>\n",
       "</table>\n",
       "</div>"
      ],
      "text/plain": [
       "     author  author_name          project       date  commits  \\\n",
       "0  aepsil0n  Eduard Bopp  aepsil0n/acacia 2014-11-28        2   \n",
       "1  aepsil0n  Eduard Bopp  aepsil0n/acacia 2014-11-29        4   \n",
       "2  aepsil0n  Eduard Bopp  aepsil0n/acacia 2014-12-02        7   \n",
       "3  aepsil0n  Eduard Bopp  aepsil0n/acacia 2014-12-03        1   \n",
       "4  aepsil0n  Eduard Bopp  aepsil0n/acacia 2014-12-04       20   \n",
       "\n",
       "          duration            truth  \n",
       "0              NaN  1 days 00:00:00  \n",
       "1  1 days 00:00:00  3 days 00:00:00  \n",
       "2  3 days 00:00:00  1 days 00:00:00  \n",
       "3  1 days 00:00:00  1 days 00:00:00  \n",
       "4  1 days 00:00:00  6 days 00:00:00  "
      ]
     },
     "execution_count": 6,
     "metadata": {},
     "output_type": "execute_result"
    }
   ],
   "source": [
    "df_raw.head()"
   ]
  },
  {
   "cell_type": "code",
   "execution_count": 7,
   "metadata": {},
   "outputs": [
    {
     "name": "stdout",
     "output_type": "stream",
     "text": [
      "Authors na: 0\n",
      "Pairs in raw dataset: 24315\n",
      "Dropped pairs: 6975\n"
     ]
    }
   ],
   "source": [
    "# Remove unknown authors (should be empty)\n",
    "df = df_raw.dropna(subset=['author'])\n",
    "print('Authors na:', len(df_raw) - len(df))\n",
    "\n",
    "# Remove first \"day of activity\" of each contributor, as it does\n",
    "# not contain useful information for the model (because it has no \"previous delay\").\n",
    "s = len(df.drop_duplicates(['project', 'author']))\n",
    "print('Pairs in raw dataset:', s)\n",
    "df = df.dropna(subset=['duration'])\n",
    "print('Dropped pairs:', s - len(df.drop_duplicates(['project', 'author'])))\n",
    "\n",
    "# We arbitrarilly define that \"0\" means \"no delay\". This does not change\n",
    "# the results, that's just an internal convention.\n",
    "df = df.assign(duration=lambda d: pandas.to_timedelta(d['duration']).dt.days - 1)\n",
    "df = df.assign(truth=lambda d: pandas.to_timedelta(d['truth']).dt.days - 1)"
   ]
  },
  {
   "cell_type": "markdown",
   "metadata": {},
   "source": [
    "### Dataset overview"
   ]
  },
  {
   "cell_type": "markdown",
   "metadata": {},
   "source": [
    "Add data about repositories (extracted from libraries.io dataset):"
   ]
  },
  {
   "cell_type": "code",
   "execution_count": 8,
   "metadata": {},
   "outputs": [],
   "source": [
    "df_repo = pandas.read_csv('../data/repositories.csv.gz')"
   ]
  },
  {
   "cell_type": "code",
   "execution_count": 9,
   "metadata": {},
   "outputs": [
    {
     "data": {
      "text/html": [
       "<div>\n",
       "<style scoped>\n",
       "    .dataframe tbody tr th:only-of-type {\n",
       "        vertical-align: middle;\n",
       "    }\n",
       "\n",
       "    .dataframe tbody tr th {\n",
       "        vertical-align: top;\n",
       "    }\n",
       "\n",
       "    .dataframe thead th {\n",
       "        text-align: right;\n",
       "    }\n",
       "</style>\n",
       "<table border=\"1\" class=\"dataframe\">\n",
       "  <thead>\n",
       "    <tr style=\"text-align: right;\">\n",
       "      <th></th>\n",
       "      <th>project</th>\n",
       "      <th>url</th>\n",
       "      <th>releases</th>\n",
       "      <th>created</th>\n",
       "      <th>size</th>\n",
       "      <th>stars</th>\n",
       "      <th>forks</th>\n",
       "    </tr>\n",
       "  </thead>\n",
       "  <tbody>\n",
       "    <tr>\n",
       "      <th>0</th>\n",
       "      <td>rust-lang/rust</td>\n",
       "      <td>https://github.com/rust-lang/rust</td>\n",
       "      <td>318</td>\n",
       "      <td>2010-06-16 20:39:03 UTC</td>\n",
       "      <td>409867.0</td>\n",
       "      <td>32655.0</td>\n",
       "      <td>5399.0</td>\n",
       "    </tr>\n",
       "    <tr>\n",
       "      <th>1</th>\n",
       "      <td>google/xi-editor</td>\n",
       "      <td>https://github.com/google/xi-editor</td>\n",
       "      <td>3</td>\n",
       "      <td>2016-04-26 23:03:23 UTC</td>\n",
       "      <td>6545.0</td>\n",
       "      <td>15193.0</td>\n",
       "      <td>559.0</td>\n",
       "    </tr>\n",
       "    <tr>\n",
       "      <th>2</th>\n",
       "      <td>servo/servo</td>\n",
       "      <td>https://github.com/servo/servo</td>\n",
       "      <td>42</td>\n",
       "      <td>2012-02-08 19:07:25 UTC</td>\n",
       "      <td>766421.0</td>\n",
       "      <td>13041.0</td>\n",
       "      <td>2028.0</td>\n",
       "    </tr>\n",
       "    <tr>\n",
       "      <th>3</th>\n",
       "      <td>BurntSushi/ripgrep</td>\n",
       "      <td>https://github.com/BurntSushi/ripgrep</td>\n",
       "      <td>3</td>\n",
       "      <td>2016-03-11 02:02:33 UTC</td>\n",
       "      <td>2780.0</td>\n",
       "      <td>11929.0</td>\n",
       "      <td>488.0</td>\n",
       "    </tr>\n",
       "    <tr>\n",
       "      <th>4</th>\n",
       "      <td>sharkdp/fd</td>\n",
       "      <td>https://github.com/sharkdp/fd</td>\n",
       "      <td>12</td>\n",
       "      <td>2017-05-09 21:27:10 UTC</td>\n",
       "      <td>604.0</td>\n",
       "      <td>7120.0</td>\n",
       "      <td>183.0</td>\n",
       "    </tr>\n",
       "  </tbody>\n",
       "</table>\n",
       "</div>"
      ],
      "text/plain": [
       "              project                                    url  releases  \\\n",
       "0      rust-lang/rust      https://github.com/rust-lang/rust       318   \n",
       "1    google/xi-editor    https://github.com/google/xi-editor         3   \n",
       "2         servo/servo         https://github.com/servo/servo        42   \n",
       "3  BurntSushi/ripgrep  https://github.com/BurntSushi/ripgrep         3   \n",
       "4          sharkdp/fd          https://github.com/sharkdp/fd        12   \n",
       "\n",
       "                   created      size    stars   forks  \n",
       "0  2010-06-16 20:39:03 UTC  409867.0  32655.0  5399.0  \n",
       "1  2016-04-26 23:03:23 UTC    6545.0  15193.0   559.0  \n",
       "2  2012-02-08 19:07:25 UTC  766421.0  13041.0  2028.0  \n",
       "3  2016-03-11 02:02:33 UTC    2780.0  11929.0   488.0  \n",
       "4  2017-05-09 21:27:10 UTC     604.0   7120.0   183.0  "
      ]
     },
     "execution_count": 9,
     "metadata": {},
     "output_type": "execute_result"
    }
   ],
   "source": [
    "df_repo.head()"
   ]
  },
  {
   "cell_type": "code",
   "execution_count": 10,
   "metadata": {},
   "outputs": [],
   "source": [
    "df_projects = (\n",
    "    df_raw\n",
    "    # Keep only considered projects\n",
    "    [lambda d: d['project'].isin(df['project'].unique())]\n",
    "    .assign(first_date=lambda d: d['date'])\n",
    "    .assign(last_date=lambda d: d['date'])\n",
    "    .assign(days=lambda d: d['date'])\n",
    "    .groupby('project', sort=False)\n",
    "    .agg({\n",
    "        'first_date': 'min',\n",
    "        'last_date': 'max',\n",
    "        'author': lambda s: s.nunique(),\n",
    "        'days': lambda s: s.nunique(),\n",
    "        'commits': 'sum',\n",
    "    })\n",
    "    .rename(columns={'author': 'contributors'})\n",
    "    .assign(longevity=lambda d: (d['last_date'] - d['first_date']).dt.days)\n",
    "    .merge(df_repo, how='left', left_on='project', right_on='project')\n",
    ")"
   ]
  },
  {
   "cell_type": "code",
   "execution_count": 11,
   "metadata": {},
   "outputs": [
    {
     "data": {
      "text/html": [
       "<div>\n",
       "<style scoped>\n",
       "    .dataframe tbody tr th:only-of-type {\n",
       "        vertical-align: middle;\n",
       "    }\n",
       "\n",
       "    .dataframe tbody tr th {\n",
       "        vertical-align: top;\n",
       "    }\n",
       "\n",
       "    .dataframe thead th {\n",
       "        text-align: right;\n",
       "    }\n",
       "</style>\n",
       "<table border=\"1\" class=\"dataframe\">\n",
       "  <thead>\n",
       "    <tr style=\"text-align: right;\">\n",
       "      <th></th>\n",
       "      <th>count</th>\n",
       "      <th>mean</th>\n",
       "      <th>std</th>\n",
       "      <th>min</th>\n",
       "      <th>25%</th>\n",
       "      <th>50%</th>\n",
       "      <th>75%</th>\n",
       "      <th>90%</th>\n",
       "      <th>max</th>\n",
       "    </tr>\n",
       "  </thead>\n",
       "  <tbody>\n",
       "    <tr>\n",
       "      <th>longevity</th>\n",
       "      <td>7528.0</td>\n",
       "      <td>485.802205</td>\n",
       "      <td>500.984215</td>\n",
       "      <td>1.0</td>\n",
       "      <td>61.0</td>\n",
       "      <td>349.5</td>\n",
       "      <td>761.25</td>\n",
       "      <td>1185.0</td>\n",
       "      <td>6887.0</td>\n",
       "    </tr>\n",
       "    <tr>\n",
       "      <th>contributors</th>\n",
       "      <td>7528.0</td>\n",
       "      <td>3.125797</td>\n",
       "      <td>19.396651</td>\n",
       "      <td>1.0</td>\n",
       "      <td>1.0</td>\n",
       "      <td>1.0</td>\n",
       "      <td>2.00</td>\n",
       "      <td>5.0</td>\n",
       "      <td>1413.0</td>\n",
       "    </tr>\n",
       "    <tr>\n",
       "      <th>commits</th>\n",
       "      <td>7528.0</td>\n",
       "      <td>146.585547</td>\n",
       "      <td>1229.925692</td>\n",
       "      <td>2.0</td>\n",
       "      <td>16.0</td>\n",
       "      <td>39.0</td>\n",
       "      <td>100.00</td>\n",
       "      <td>257.0</td>\n",
       "      <td>89179.0</td>\n",
       "    </tr>\n",
       "    <tr>\n",
       "      <th>days</th>\n",
       "      <td>7528.0</td>\n",
       "      <td>37.932917</td>\n",
       "      <td>103.659249</td>\n",
       "      <td>2.0</td>\n",
       "      <td>5.0</td>\n",
       "      <td>12.0</td>\n",
       "      <td>32.00</td>\n",
       "      <td>82.0</td>\n",
       "      <td>3214.0</td>\n",
       "    </tr>\n",
       "    <tr>\n",
       "      <th>size</th>\n",
       "      <td>6927.0</td>\n",
       "      <td>1767.720803</td>\n",
       "      <td>13580.526795</td>\n",
       "      <td>0.0</td>\n",
       "      <td>24.0</td>\n",
       "      <td>102.0</td>\n",
       "      <td>696.00</td>\n",
       "      <td>2996.0</td>\n",
       "      <td>766421.0</td>\n",
       "    </tr>\n",
       "    <tr>\n",
       "      <th>stars</th>\n",
       "      <td>6927.0</td>\n",
       "      <td>62.141908</td>\n",
       "      <td>551.827418</td>\n",
       "      <td>0.0</td>\n",
       "      <td>1.0</td>\n",
       "      <td>3.0</td>\n",
       "      <td>15.00</td>\n",
       "      <td>74.0</td>\n",
       "      <td>32655.0</td>\n",
       "    </tr>\n",
       "    <tr>\n",
       "      <th>forks</th>\n",
       "      <td>6927.0</td>\n",
       "      <td>8.120543</td>\n",
       "      <td>77.049180</td>\n",
       "      <td>0.0</td>\n",
       "      <td>0.0</td>\n",
       "      <td>1.0</td>\n",
       "      <td>3.00</td>\n",
       "      <td>13.0</td>\n",
       "      <td>5399.0</td>\n",
       "    </tr>\n",
       "  </tbody>\n",
       "</table>\n",
       "</div>"
      ],
      "text/plain": [
       "               count         mean           std  min   25%    50%     75%  \\\n",
       "longevity     7528.0   485.802205    500.984215  1.0  61.0  349.5  761.25   \n",
       "contributors  7528.0     3.125797     19.396651  1.0   1.0    1.0    2.00   \n",
       "commits       7528.0   146.585547   1229.925692  2.0  16.0   39.0  100.00   \n",
       "days          7528.0    37.932917    103.659249  2.0   5.0   12.0   32.00   \n",
       "size          6927.0  1767.720803  13580.526795  0.0  24.0  102.0  696.00   \n",
       "stars         6927.0    62.141908    551.827418  0.0   1.0    3.0   15.00   \n",
       "forks         6927.0     8.120543     77.049180  0.0   0.0    1.0    3.00   \n",
       "\n",
       "                 90%       max  \n",
       "longevity     1185.0    6887.0  \n",
       "contributors     5.0    1413.0  \n",
       "commits        257.0   89179.0  \n",
       "days            82.0    3214.0  \n",
       "size          2996.0  766421.0  \n",
       "stars           74.0   32655.0  \n",
       "forks           13.0    5399.0  "
      ]
     },
     "execution_count": 11,
     "metadata": {},
     "output_type": "execute_result"
    }
   ],
   "source": [
    "df_projects[['longevity', 'contributors', 'commits', 'days', 'size', 'stars', 'forks']].describe(percentiles=[.25, .5, .75, .90]).T"
   ]
  },
  {
   "cell_type": "code",
   "execution_count": 12,
   "metadata": {},
   "outputs": [],
   "source": [
    "df_authors = (\n",
    "    df_raw\n",
    "    # Keep only considered authors\n",
    "    [lambda d: d['author'].isin(df['author'].unique())]\n",
    "    .assign(first_date=lambda d: d['date'])\n",
    "    .assign(last_date=lambda d: d['date'])\n",
    "    .assign(days=lambda d: d['date'])\n",
    "    .groupby('author', sort=False)\n",
    "    .agg({\n",
    "        'first_date': 'min',\n",
    "        'last_date': 'max',\n",
    "        'project': lambda s: s.nunique(),\n",
    "        'days': lambda s: s.nunique(),\n",
    "        'commits': 'sum',\n",
    "    })\n",
    "    .rename(columns={'project': 'projects'})\n",
    "    .assign(longevity=lambda d: (d['last_date'] - d['first_date']).dt.days)\n",
    ")"
   ]
  },
  {
   "cell_type": "code",
   "execution_count": 13,
   "metadata": {},
   "outputs": [
    {
     "data": {
      "text/html": [
       "<div>\n",
       "<style scoped>\n",
       "    .dataframe tbody tr th:only-of-type {\n",
       "        vertical-align: middle;\n",
       "    }\n",
       "\n",
       "    .dataframe tbody tr th {\n",
       "        vertical-align: top;\n",
       "    }\n",
       "\n",
       "    .dataframe thead th {\n",
       "        text-align: right;\n",
       "    }\n",
       "</style>\n",
       "<table border=\"1\" class=\"dataframe\">\n",
       "  <thead>\n",
       "    <tr style=\"text-align: right;\">\n",
       "      <th></th>\n",
       "      <th>count</th>\n",
       "      <th>mean</th>\n",
       "      <th>std</th>\n",
       "      <th>min</th>\n",
       "      <th>25%</th>\n",
       "      <th>50%</th>\n",
       "      <th>75%</th>\n",
       "      <th>90%</th>\n",
       "      <th>max</th>\n",
       "    </tr>\n",
       "  </thead>\n",
       "  <tbody>\n",
       "    <tr>\n",
       "      <th>longevity</th>\n",
       "      <td>5947.0</td>\n",
       "      <td>492.846645</td>\n",
       "      <td>555.934354</td>\n",
       "      <td>1.0</td>\n",
       "      <td>38.0</td>\n",
       "      <td>300.0</td>\n",
       "      <td>789.0</td>\n",
       "      <td>1291.0</td>\n",
       "      <td>6032.0</td>\n",
       "    </tr>\n",
       "    <tr>\n",
       "      <th>projects</th>\n",
       "      <td>5947.0</td>\n",
       "      <td>3.712292</td>\n",
       "      <td>7.106237</td>\n",
       "      <td>1.0</td>\n",
       "      <td>1.0</td>\n",
       "      <td>2.0</td>\n",
       "      <td>3.0</td>\n",
       "      <td>8.0</td>\n",
       "      <td>158.0</td>\n",
       "    </tr>\n",
       "    <tr>\n",
       "      <th>commits</th>\n",
       "      <td>5947.0</td>\n",
       "      <td>185.508492</td>\n",
       "      <td>719.624930</td>\n",
       "      <td>2.0</td>\n",
       "      <td>8.0</td>\n",
       "      <td>28.0</td>\n",
       "      <td>115.0</td>\n",
       "      <td>395.4</td>\n",
       "      <td>23422.0</td>\n",
       "    </tr>\n",
       "    <tr>\n",
       "      <th>days</th>\n",
       "      <td>5947.0</td>\n",
       "      <td>48.463763</td>\n",
       "      <td>119.477164</td>\n",
       "      <td>2.0</td>\n",
       "      <td>4.0</td>\n",
       "      <td>11.0</td>\n",
       "      <td>39.0</td>\n",
       "      <td>122.0</td>\n",
       "      <td>2290.0</td>\n",
       "    </tr>\n",
       "  </tbody>\n",
       "</table>\n",
       "</div>"
      ],
      "text/plain": [
       "            count        mean         std  min   25%    50%    75%     90%  \\\n",
       "longevity  5947.0  492.846645  555.934354  1.0  38.0  300.0  789.0  1291.0   \n",
       "projects   5947.0    3.712292    7.106237  1.0   1.0    2.0    3.0     8.0   \n",
       "commits    5947.0  185.508492  719.624930  2.0   8.0   28.0  115.0   395.4   \n",
       "days       5947.0   48.463763  119.477164  2.0   4.0   11.0   39.0   122.0   \n",
       "\n",
       "               max  \n",
       "longevity   6032.0  \n",
       "projects     158.0  \n",
       "commits    23422.0  \n",
       "days        2290.0  "
      ]
     },
     "execution_count": 13,
     "metadata": {},
     "output_type": "execute_result"
    }
   ],
   "source": [
    "df_authors[['longevity', 'projects', 'commits', 'days']].describe(percentiles=[.25, .5, .75, .90]).T"
   ]
  },
  {
   "cell_type": "code",
   "execution_count": 17,
   "metadata": {},
   "outputs": [
    {
     "data": {
      "image/png": "[encoded data removed]",
      "text/plain": [
       "<Figure size 756x180 with 2 Axes>"
      ]
     },
     "metadata": {
      "needs_background": "light"
     },
     "output_type": "display_data"
    }
   ],
   "source": [
    "fig, axes = matplotlib.pyplot.subplots(ncols=2, gridspec_kw={'width_ratios': [5, 3]})\n",
    "fig.set_size_inches(FIG_SIZE[0] * 1.5, FIG_SIZE[1])\n",
    "\n",
    "seaborn.boxenplot(\n",
    "    x='variable', \n",
    "    y='value',\n",
    "    data=(\n",
    "        df_projects\n",
    "        .melt(id_vars=['project'], value_vars=['longevity', 'stars', 'forks', 'contributors', 'commits'])\n",
    "        .replace({'longevity': 'days of\\nlongevity'})\n",
    "    ),\n",
    "    color=PALETTE[0],\n",
    "    ax=axes[0],\n",
    ")\n",
    "\n",
    "axes[0].set(\n",
    "    title='for projects',\n",
    "    xlabel='',\n",
    "    ylabel='number of',\n",
    "    yscale='log',\n",
    "    ylim=(1, 10e4 + 1),\n",
    ")\n",
    "\n",
    "seaborn.boxenplot(\n",
    "    x='variable', \n",
    "    y='value',\n",
    "    data=(\n",
    "        df_authors\n",
    "        .melt(id_vars=['author'], value_vars=['longevity', 'projects', 'commits'])\n",
    "        .replace({'longevity': 'days of\\nlongevity'})\n",
    "    ),\n",
    "    color=PALETTE[1],\n",
    "    ax=axes[1],\n",
    ")\n",
    "\n",
    "axes[1].set(\n",
    "    title='for contributors',\n",
    "    xlabel='',\n",
    "    ylabel='number of',\n",
    "    yscale='log',\n",
    "    ylim=(1, 10e4 + 1),\n",
    ")\n",
    "\n",
    "savefig(fig, 'descr_dataset')"
   ]
  },
  {
   "cell_type": "code",
   "execution_count": 15,
   "metadata": {},
   "outputs": [
    {
     "name": "stdout",
     "output_type": "stream",
     "text": [
      "Final dataset\n",
      "Projects: 7528\n",
      "Authors: 5947\n",
      "Timelines: 17340\n",
      "Days of activity: 374622\n"
     ]
    }
   ],
   "source": [
    "print('Final dataset')\n",
    "print('Projects:', len(df.drop_duplicates('project')))\n",
    "print('Authors:', len(df.drop_duplicates('author')))\n",
    "print('Timelines:', len(df.drop_duplicates(['project', 'author'])))\n",
    "# Days + pairs, because we removed the first day of activity\n",
    "print('Days of activity:', len(df) + len(df.drop_duplicates(['project', 'author'])))"
   ]
  },
  {
   "cell_type": "markdown",
   "metadata": {},
   "source": [
    "### Data anonymization"
   ]
  },
  {
   "cell_type": "code",
   "execution_count": 16,
   "metadata": {},
   "outputs": [],
   "source": [
    "fake = Faker()\n",
    "fake.seed(12345)"
   ]
  },
  {
   "cell_type": "code",
   "execution_count": 17,
   "metadata": {},
   "outputs": [],
   "source": [
    "aliases = {}\n",
    "mapping = {}\n",
    "\n",
    "for row in (\n",
    "        df\n",
    "        .drop_duplicates('author_name')\n",
    "        # \"author_name\" is the \"displayed name\", while \"author\" is the github username\n",
    "        [['author_name', 'author']]\n",
    "        .dropna()\n",
    "    ).itertuples():\n",
    "    aliases[row.author] = fake.first_name()[0] + '. ' + fake.last_name()\n",
    "    mapping[row.author_name.encode().decode('unicode_escape')] = aliases[row.author]"
   ]
  },
  {
   "cell_type": "code",
   "execution_count": 18,
   "metadata": {},
   "outputs": [],
   "source": [
    "# Manual mapping for our specific example\n",
    "# This manual mapping is helpful when the mapping.csv file is used with git in our example\n",
    "\n",
    "mapping['bors-servo'] = 'bots (grouped)'\n",
    "mapping['WPT Sync Bot'] = 'bots (grouped)'\n",
    "\n",
    "mapping['Emilio Cobos Álvarez'] = mapping['Emilio Cobos Ã\\x81lvarez']\n",
    "\n",
    "mapping['Fernando Jiménez Moreno'] = mapping['Fernando Jimenez Moreno']\n",
    "mapping['Fernando JimÃ©nez Moreno'] = mapping['Fernando Jimenez Moreno']"
   ]
  },
  {
   "cell_type": "code",
   "execution_count": 19,
   "metadata": {},
   "outputs": [],
   "source": [
    "pandas.DataFrame(list(mapping.items()), columns=['source', 'target']).to_csv('../data/mapping.csv', index=False)"
   ]
  },
  {
   "cell_type": "markdown",
   "metadata": {},
   "source": [
    "### Number of pairs/timelines w.r.t. window size"
   ]
  },
  {
   "cell_type": "code",
   "execution_count": 20,
   "metadata": {},
   "outputs": [
    {
     "data": {
      "image/png": "[encoded data removed]",
      "text/plain": [
       "<Figure size 504x180 with 2 Axes>"
      ]
     },
     "metadata": {
      "needs_background": "light"
     },
     "output_type": "display_data"
    }
   ],
   "source": [
    "fig, ax = matplotlib.pyplot.subplots()\n",
    "fig.set_size_inches(FIG_SIZE)\n",
    "\n",
    "pairs = (\n",
    "    df\n",
    "    .groupby(['project', 'author'], sort=False)\n",
    "    .agg({'date': 'count'})\n",
    "    .rename(columns={'date': 'observations'})\n",
    "    .assign(observations=lambda d: d['observations'] + 1)  # Because of dropped \"truth=na\"\n",
    "    .assign(pairs=1)\n",
    "    .groupby('observations', as_index=False)\n",
    "    .sum()\n",
    ")\n",
    "\n",
    "data = []\n",
    "for n in range(0, 200 + 1):\n",
    "    p = pairs[pairs['observations'] >= n + 1].pairs.sum()\n",
    "    t = (\n",
    "        pairs\n",
    "        [pairs['observations'] >= n + 1]\n",
    "        .eval('(observations - @n) * pairs')\n",
    "        .sum()\n",
    "    )\n",
    "    data.append((n, p, t))\n",
    "    \n",
    "temp = (\n",
    "    pandas.DataFrame(columns=['n', 'pairs', 'samples'], data=data)\n",
    "    .set_index('n')\n",
    ")\n",
    "\n",
    "temp[['pairs']].loc[1:].plot(color=PALETTE[0], ax=ax)\n",
    "ax.legend(loc=(0.07, 0.82))\n",
    "ax.set(\n",
    "    xlabel='value of n',\n",
    "    xlim=(0, 100),\n",
    "    ylim=(0, 18000)\n",
    ")\n",
    "\n",
    "ax2 = ax.twinx()\n",
    "temp[['samples']].loc[1:].plot(color=PALETTE[1], ax=ax2)\n",
    "ax2.legend(loc=(0.75, 0.82))\n",
    "ax2.set(\n",
    "    ylim=(0, 360000),\n",
    ")\n",
    "\n",
    "\n",
    "savefig(fig, 'dataset_size')"
   ]
  },
  {
   "cell_type": "code",
   "execution_count": 21,
   "metadata": {},
   "outputs": [
    {
     "data": {
      "text/html": [
       "<div>\n",
       "<style scoped>\n",
       "    .dataframe tbody tr th:only-of-type {\n",
       "        vertical-align: middle;\n",
       "    }\n",
       "\n",
       "    .dataframe tbody tr th {\n",
       "        vertical-align: top;\n",
       "    }\n",
       "\n",
       "    .dataframe thead th {\n",
       "        text-align: right;\n",
       "    }\n",
       "</style>\n",
       "<table border=\"1\" class=\"dataframe\">\n",
       "  <thead>\n",
       "    <tr style=\"text-align: right;\">\n",
       "      <th></th>\n",
       "      <th>pairs</th>\n",
       "      <th>samples</th>\n",
       "    </tr>\n",
       "    <tr>\n",
       "      <th>n</th>\n",
       "      <th></th>\n",
       "      <th></th>\n",
       "    </tr>\n",
       "  </thead>\n",
       "  <tbody>\n",
       "    <tr>\n",
       "      <th>0</th>\n",
       "      <td>17340</td>\n",
       "      <td>374622</td>\n",
       "    </tr>\n",
       "    <tr>\n",
       "      <th>1</th>\n",
       "      <td>17340</td>\n",
       "      <td>357282</td>\n",
       "    </tr>\n",
       "    <tr>\n",
       "      <th>2</th>\n",
       "      <td>14109</td>\n",
       "      <td>339942</td>\n",
       "    </tr>\n",
       "    <tr>\n",
       "      <th>10</th>\n",
       "      <td>6177</td>\n",
       "      <td>263940</td>\n",
       "    </tr>\n",
       "    <tr>\n",
       "      <th>20</th>\n",
       "      <td>3738</td>\n",
       "      <td>214993</td>\n",
       "    </tr>\n",
       "    <tr>\n",
       "      <th>30</th>\n",
       "      <td>2628</td>\n",
       "      <td>183072</td>\n",
       "    </tr>\n",
       "    <tr>\n",
       "      <th>50</th>\n",
       "      <td>1582</td>\n",
       "      <td>141679</td>\n",
       "    </tr>\n",
       "    <tr>\n",
       "      <th>100</th>\n",
       "      <td>698</td>\n",
       "      <td>88644</td>\n",
       "    </tr>\n",
       "    <tr>\n",
       "      <th>200</th>\n",
       "      <td>254</td>\n",
       "      <td>45742</td>\n",
       "    </tr>\n",
       "  </tbody>\n",
       "</table>\n",
       "</div>"
      ],
      "text/plain": [
       "     pairs  samples\n",
       "n                  \n",
       "0    17340   374622\n",
       "1    17340   357282\n",
       "2    14109   339942\n",
       "10    6177   263940\n",
       "20    3738   214993\n",
       "30    2628   183072\n",
       "50    1582   141679\n",
       "100    698    88644\n",
       "200    254    45742"
      ]
     },
     "execution_count": 21,
     "metadata": {},
     "output_type": "execute_result"
    }
   ],
   "source": [
    "temp.loc[[0, 1, 2, 10, 20, 30, 50, 100, 200]]"
   ]
  },
  {
   "cell_type": "markdown",
   "metadata": {},
   "source": [
    "## Model computation"
   ]
  },
  {
   "cell_type": "code",
   "execution_count": 22,
   "metadata": {},
   "outputs": [
    {
     "data": {
      "image/png": "[encoded data removed]",
      "text/plain": [
       "<Figure size 432x72 with 1 Axes>"
      ]
     },
     "metadata": {
      "needs_background": "light"
     },
     "output_type": "display_data"
    }
   ],
   "source": [
    "WINDOW_SIZE = 20\n",
    "PROBABILITIES = [p / 100 for p in range(10, 100, 10)]\n",
    "SHOWN_PROBABILITIES = [0.5, 0.6, 0.7, 0.8, 0.9]\n",
    "\n",
    "PALETTE_GRADIENT = seaborn.color_palette('Blues_r', n_colors=len(SHOWN_PROBABILITIES) + 5)[4:]\n",
    "seaborn.palplot(PALETTE_GRADIENT)\n",
    "\n",
    "markers = ['o', 'v', 's', 'd']"
   ]
  },
  {
   "cell_type": "code",
   "execution_count": 23,
   "metadata": {},
   "outputs": [],
   "source": [
    "def rolling_window(seq, n=2):\n",
    "    \"\"\"\n",
    "    Returns a sliding window (of width n) over data from the iterable\n",
    "    e.g.: s -> (s0,s1,...s[n-1]), (s1,s2,...,sn), ...\n",
    "    \"\"\"\n",
    "    it = iter(seq)\n",
    "    result = tuple(itertools.islice(it, n))\n",
    "    if len(result) == n:\n",
    "        yield result\n",
    "    for elem in it:\n",
    "        result = result[1:] + (elem,)\n",
    "        yield result"
   ]
  },
  {
   "cell_type": "code",
   "execution_count": 24,
   "metadata": {},
   "outputs": [],
   "source": [
    "def rolling_computation(df, *, window_size, probabilities):\n",
    "    data = []\n",
    "\n",
    "    for ix, group in df.groupby(['project', 'author'], sort=False):\n",
    "        for window in rolling_window(group.itertuples(), window_size):\n",
    "            if len(window) >= window_size:\n",
    "                probs = model([r.duration for r in window], probabilities)\n",
    "                data.append(\n",
    "                    ix + (window[-1].date,) + tuple(probs) + (window[-1].truth,)\n",
    "                )\n",
    "    return (\n",
    "        pandas.DataFrame(data=data, columns=['project', 'author', 'date'] + probabilities + ['truth'])\n",
    "        .set_index(['project', 'author', 'date'])\n",
    "        .dropna()\n",
    "    )"
   ]
  },
  {
   "cell_type": "code",
   "execution_count": 25,
   "metadata": {},
   "outputs": [],
   "source": [
    "df_model = rolling_computation(df, window_size=WINDOW_SIZE, probabilities=PROBABILITIES)"
   ]
  },
  {
   "cell_type": "markdown",
   "metadata": {},
   "source": [
    "## Examples"
   ]
  },
  {
   "cell_type": "markdown",
   "metadata": {},
   "source": [
    "### Survival analysis at specific points in time"
   ]
  },
  {
   "cell_type": "markdown",
   "metadata": {},
   "source": [
    "This example shows the predicted durations for a set of examples. "
   ]
  },
  {
   "cell_type": "code",
   "execution_count": 26,
   "metadata": {},
   "outputs": [
    {
     "name": "stderr",
     "output_type": "stream",
     "text": [
      "/home/alexandre/.local/share/virtualenvs/secos-activity/lib/python3.5/site-packages/ipykernel_launcher.py:12: PerformanceWarning: indexing past lexsort depth may impact performance.\n",
      "  if sys.path[0] == '':\n"
     ]
    },
    {
     "data": {
      "image/png": "[encoded data removed]",
      "text/plain": [
       "<Figure size 504x180 with 1 Axes>"
      ]
     },
     "metadata": {
      "needs_background": "light"
     },
     "output_type": "display_data"
    }
   ],
   "source": [
    "examples = [\n",
    "    ('serde-rs/serde', 'dtolnay', ['2018-08-01', '2018-10-01', '2018-12-01', '2019-02-01']),\n",
    "]\n",
    "\n",
    "fig, axes = matplotlib.pyplot.subplots(nrows=len(examples), squeeze=False, sharex=True, sharey=True)\n",
    "fig.set_size_inches(FIG_SIZE[0], FIG_SIZE[1])\n",
    "\n",
    "for i, (project, author, dates) in enumerate(examples):\n",
    "    ax = axes[i][0]\n",
    "    \n",
    "    for j, date in enumerate(dates):\n",
    "        durations = dates_to_duration(df_model.loc[(project, author)].index.astype(str), current=date, window_size=WINDOW_SIZE)\n",
    "        if len(durations) < WINDOW_SIZE:\n",
    "            print('{} has not enough items ({} vs. {})'.format(date, len(durations), WINDOW_SIZE))\n",
    "            \n",
    "        surv = model(durations, return_surv=True)\n",
    "        ax.plot([0] + list(surv.surv_times), [1] + list(surv.surv_prob), marker=markers[j], label=date, color=PALETTE[j])\n",
    "        \n",
    "    ax.legend(ncol=2)\n",
    "    ax.set(\n",
    "        title=(project, author), \n",
    "        xlabel='duration (in days)',\n",
    "        xlim=(0, 15),\n",
    "        ylabel='survival probability',\n",
    "        ylim=(0, 1),\n",
    "    )    \n",
    "    \n",
    "ax.hlines(0.55, 0, 2, colors='gray', linestyles='dashed', alpha=1)\n",
    "ax.vlines(2, 0, 0.55, colors='gray', linestyles='dashed', alpha=1)\n",
    "    \n",
    "savefig(fig, 'surv_analysis')"
   ]
  },
  {
   "cell_type": "markdown",
   "metadata": {},
   "source": [
    "### Rolling evaluation for specific projects/authors"
   ]
  },
  {
   "cell_type": "markdown",
   "metadata": {},
   "source": [
    "This example shows a rolling prediction (i.e. predictions are made for all points in time). \n",
    "The bands correspond to different probabilities. The crosses are the actual observations."
   ]
  },
  {
   "cell_type": "code",
   "execution_count": 27,
   "metadata": {},
   "outputs": [
    {
     "name": "stderr",
     "output_type": "stream",
     "text": [
      "/home/alexandre/.local/share/virtualenvs/secos-activity/lib/python3.5/site-packages/ipykernel_launcher.py:13: PerformanceWarning: indexing past lexsort depth may impact performance.\n",
      "  del sys.path[0]\n"
     ]
    },
    {
     "data": {
      "image/png": "[encoded data removed]",
      "text/plain": [
       "<Figure size 756x180 with 1 Axes>"
      ]
     },
     "metadata": {
      "needs_background": "light"
     },
     "output_type": "display_data"
    }
   ],
   "source": [
    "examples = [\n",
    "    ('serde-rs/serde', 'dtolnay'),\n",
    "    #('servo/servo', 'emilio'),\n",
    "    #('servo/servo', 'hiikezoe'),\n",
    "]\n",
    "\n",
    "fig, axes = matplotlib.pyplot.subplots(nrows=len(examples), sharex=True, sharey=False, squeeze=False, gridspec_kw={'hspace': 0.2})\n",
    "fig.set_size_inches(FIG_SIZE[0] * 1.5, FIG_SIZE[1] * len(examples))\n",
    "\n",
    "for i, example in enumerate(examples):\n",
    "    ax = axes[0][i]\n",
    "    \n",
    "    temp = df_model.loc[example]\n",
    "    \n",
    "    #ax.fill_between(temp.index, temp[SHOWN_PROBABILITIES[0]], color='b', alpha=0.1, linewidth=0)\n",
    "    #for i, (p1, p2) in enumerate(zip(SHOWN_PROBABILITIES[:-1], SHOWN_PROBABILITIES[1:])):\n",
    "    #    ax.fill_between(temp.index, temp[p1], temp[p2], color='b', alpha=(i + 2) * 0.1, linewidth=0)\n",
    "    for i, p in reversed([e for e in enumerate(SHOWN_PROBABILITIES)]):\n",
    "        ax.fill_between(temp.index, temp[p], color=PALETTE_GRADIENT[i], linewidth=0)\n",
    "        \n",
    "    threshold = SHOWN_PROBABILITIES[-1]\n",
    "    temp[lambda d: d['truth'] <= d[threshold]]['truth'].plot(style='.', marker='.', color=PALETTE[0], ax=ax)\n",
    "    temp[lambda d: d['truth'] > d[threshold]]['truth'].plot(style='.', marker='x', color=PALETTE[3], ax=ax)\n",
    "    \n",
    "    for tick in ax.get_xticklabels():\n",
    "        tick.set_rotation(0)\n",
    "        tick.set_horizontalalignment('center')\n",
    "    \n",
    "    ax.set(\n",
    "        title=example,\n",
    "        xlabel='',\n",
    "        ylabel='days of inactivity',\n",
    "    )\n",
    "    \n",
    "    ax.legend(\n",
    "        [matplotlib.patches.Patch(facecolor=PALETTE_GRADIENT[i]) for i,p in enumerate(SHOWN_PROBABILITIES)],\n",
    "        SHOWN_PROBABILITIES,\n",
    "        title='probability',\n",
    "        loc='upper left',\n",
    "        ncol=2,\n",
    "    )\n",
    "    \n",
    "savefig(fig, 'rolling_evaluation')"
   ]
  },
  {
   "cell_type": "code",
   "execution_count": 39,
   "metadata": {},
   "outputs": [
    {
     "data": {
      "text/plain": [
       "0.1      0.498534\n",
       "0.2      0.510264\n",
       "0.3      0.536657\n",
       "0.4      0.577713\n",
       "0.5      0.604106\n",
       "0.6      0.662757\n",
       "0.7      0.730205\n",
       "0.8      0.826979\n",
       "0.9      0.912023\n",
       "truth    1.000000\n",
       "dtype: float64"
      ]
     },
     "execution_count": 39,
     "metadata": {},
     "output_type": "execute_result"
    }
   ],
   "source": [
    "temp.apply(lambda s: s >= s['truth'], axis=1).sum() / 341"
   ]
  },
  {
   "cell_type": "markdown",
   "metadata": {},
   "source": [
    "## Model evaluation"
   ]
  },
  {
   "cell_type": "markdown",
   "metadata": {},
   "source": [
    "Probabilistic models are not easy to evaluate. There are ways to compare different probabilistic models but none of them can be used to provide a \"global absolute\" score (e.g. between 0 and 1) that can be used to assess its accuracy. So we ran different analyses and made several plots to show how \"good\" our model is."
   ]
  },
  {
   "cell_type": "code",
   "execution_count": 26,
   "metadata": {},
   "outputs": [],
   "source": [
    "def evaluate_rolling_model(df, kind='upper'):\n",
    "    op = {\n",
    "        'strict lower': lambda a,b: a < b,\n",
    "        'strict upper': lambda a,b: a > b,\n",
    "        'lower': lambda a,b: a <= b,\n",
    "        'upper': lambda a,b: a >= b,\n",
    "        'exact': lambda a,b: a == b,\n",
    "    }\n",
    "    \n",
    "    return (\n",
    "        df\n",
    "        .dropna()\n",
    "        .pipe(lambda d:\n",
    "            d.apply(lambda s: op[kind](s, d['truth']))\n",
    "        )\n",
    "        .drop(columns='truth')\n",
    "        .pipe(lambda d: d.sum() / len(d))\n",
    "        .to_frame(kind)\n",
    "        .rename_axis('probability')\n",
    "    )"
   ]
  },
  {
   "cell_type": "markdown",
   "metadata": {},
   "source": [
    "### Predicted values"
   ]
  },
  {
   "cell_type": "code",
   "execution_count": 29,
   "metadata": {},
   "outputs": [
    {
     "data": {
      "text/html": [
       "<div>\n",
       "<style scoped>\n",
       "    .dataframe tbody tr th:only-of-type {\n",
       "        vertical-align: middle;\n",
       "    }\n",
       "\n",
       "    .dataframe tbody tr th {\n",
       "        vertical-align: top;\n",
       "    }\n",
       "\n",
       "    .dataframe thead th {\n",
       "        text-align: right;\n",
       "    }\n",
       "</style>\n",
       "<table border=\"1\" class=\"dataframe\">\n",
       "  <thead>\n",
       "    <tr style=\"text-align: right;\">\n",
       "      <th></th>\n",
       "      <th>0.1</th>\n",
       "      <th>0.2</th>\n",
       "      <th>0.3</th>\n",
       "      <th>0.4</th>\n",
       "      <th>0.5</th>\n",
       "      <th>0.6</th>\n",
       "      <th>0.7</th>\n",
       "      <th>0.8</th>\n",
       "      <th>0.9</th>\n",
       "      <th>truth</th>\n",
       "    </tr>\n",
       "  </thead>\n",
       "  <tbody>\n",
       "    <tr>\n",
       "      <th>count</th>\n",
       "      <td>214993.000000</td>\n",
       "      <td>214993.000000</td>\n",
       "      <td>214993.000000</td>\n",
       "      <td>214993.000000</td>\n",
       "      <td>214993.000000</td>\n",
       "      <td>214993.000000</td>\n",
       "      <td>214993.000000</td>\n",
       "      <td>214993.000000</td>\n",
       "      <td>214993.000000</td>\n",
       "      <td>214993.000000</td>\n",
       "    </tr>\n",
       "    <tr>\n",
       "      <th>mean</th>\n",
       "      <td>0.094850</td>\n",
       "      <td>0.271595</td>\n",
       "      <td>0.731982</td>\n",
       "      <td>1.378831</td>\n",
       "      <td>2.216854</td>\n",
       "      <td>3.541497</td>\n",
       "      <td>5.775714</td>\n",
       "      <td>10.583824</td>\n",
       "      <td>22.065960</td>\n",
       "      <td>9.206872</td>\n",
       "    </tr>\n",
       "    <tr>\n",
       "      <th>std</th>\n",
       "      <td>0.509308</td>\n",
       "      <td>0.899242</td>\n",
       "      <td>1.764027</td>\n",
       "      <td>2.742258</td>\n",
       "      <td>3.995254</td>\n",
       "      <td>5.908699</td>\n",
       "      <td>9.012660</td>\n",
       "      <td>15.895443</td>\n",
       "      <td>33.460421</td>\n",
       "      <td>34.623561</td>\n",
       "    </tr>\n",
       "    <tr>\n",
       "      <th>min</th>\n",
       "      <td>0.000000</td>\n",
       "      <td>0.000000</td>\n",
       "      <td>0.000000</td>\n",
       "      <td>0.000000</td>\n",
       "      <td>0.000000</td>\n",
       "      <td>0.000000</td>\n",
       "      <td>0.000000</td>\n",
       "      <td>0.000000</td>\n",
       "      <td>0.000000</td>\n",
       "      <td>0.000000</td>\n",
       "    </tr>\n",
       "    <tr>\n",
       "      <th>25%</th>\n",
       "      <td>0.000000</td>\n",
       "      <td>0.000000</td>\n",
       "      <td>0.000000</td>\n",
       "      <td>0.000000</td>\n",
       "      <td>0.000000</td>\n",
       "      <td>1.000000</td>\n",
       "      <td>1.000000</td>\n",
       "      <td>2.000000</td>\n",
       "      <td>4.000000</td>\n",
       "      <td>0.000000</td>\n",
       "    </tr>\n",
       "    <tr>\n",
       "      <th>50%</th>\n",
       "      <td>0.000000</td>\n",
       "      <td>0.000000</td>\n",
       "      <td>0.000000</td>\n",
       "      <td>0.000000</td>\n",
       "      <td>1.000000</td>\n",
       "      <td>2.000000</td>\n",
       "      <td>3.000000</td>\n",
       "      <td>5.000000</td>\n",
       "      <td>10.000000</td>\n",
       "      <td>1.000000</td>\n",
       "    </tr>\n",
       "    <tr>\n",
       "      <th>75%</th>\n",
       "      <td>0.000000</td>\n",
       "      <td>0.000000</td>\n",
       "      <td>1.000000</td>\n",
       "      <td>2.000000</td>\n",
       "      <td>2.000000</td>\n",
       "      <td>4.000000</td>\n",
       "      <td>6.000000</td>\n",
       "      <td>12.000000</td>\n",
       "      <td>26.000000</td>\n",
       "      <td>5.000000</td>\n",
       "    </tr>\n",
       "    <tr>\n",
       "      <th>max</th>\n",
       "      <td>19.000000</td>\n",
       "      <td>26.000000</td>\n",
       "      <td>43.000000</td>\n",
       "      <td>52.000000</td>\n",
       "      <td>67.000000</td>\n",
       "      <td>136.000000</td>\n",
       "      <td>178.000000</td>\n",
       "      <td>364.000000</td>\n",
       "      <td>676.000000</td>\n",
       "      <td>1702.000000</td>\n",
       "    </tr>\n",
       "  </tbody>\n",
       "</table>\n",
       "</div>"
      ],
      "text/plain": [
       "                 0.1            0.2            0.3            0.4  \\\n",
       "count  214993.000000  214993.000000  214993.000000  214993.000000   \n",
       "mean        0.094850       0.271595       0.731982       1.378831   \n",
       "std         0.509308       0.899242       1.764027       2.742258   \n",
       "min         0.000000       0.000000       0.000000       0.000000   \n",
       "25%         0.000000       0.000000       0.000000       0.000000   \n",
       "50%         0.000000       0.000000       0.000000       0.000000   \n",
       "75%         0.000000       0.000000       1.000000       2.000000   \n",
       "max        19.000000      26.000000      43.000000      52.000000   \n",
       "\n",
       "                 0.5            0.6            0.7            0.8  \\\n",
       "count  214993.000000  214993.000000  214993.000000  214993.000000   \n",
       "mean        2.216854       3.541497       5.775714      10.583824   \n",
       "std         3.995254       5.908699       9.012660      15.895443   \n",
       "min         0.000000       0.000000       0.000000       0.000000   \n",
       "25%         0.000000       1.000000       1.000000       2.000000   \n",
       "50%         1.000000       2.000000       3.000000       5.000000   \n",
       "75%         2.000000       4.000000       6.000000      12.000000   \n",
       "max        67.000000     136.000000     178.000000     364.000000   \n",
       "\n",
       "                 0.9          truth  \n",
       "count  214993.000000  214993.000000  \n",
       "mean       22.065960       9.206872  \n",
       "std        33.460421      34.623561  \n",
       "min         0.000000       0.000000  \n",
       "25%         4.000000       0.000000  \n",
       "50%        10.000000       1.000000  \n",
       "75%        26.000000       5.000000  \n",
       "max       676.000000    1702.000000  "
      ]
     },
     "execution_count": 29,
     "metadata": {},
     "output_type": "execute_result"
    }
   ],
   "source": [
    "df_model.describe()"
   ]
  },
  {
   "cell_type": "markdown",
   "metadata": {},
   "source": [
    "The following plot show the distribution of predicted values for each probability class. \n",
    "For comparison, it also includes the duration reached by the set of \"actual values\", w.r.t. to the quantiles of these observed values."
   ]
  },
  {
   "cell_type": "code",
   "execution_count": 30,
   "metadata": {},
   "outputs": [
    {
     "data": {
      "image/png": "[encoded data removed]",
      "text/plain": [
       "<Figure size 504x180 with 1 Axes>"
      ]
     },
     "metadata": {
      "needs_background": "light"
     },
     "output_type": "display_data"
    }
   ],
   "source": [
    "fig, ax = matplotlib.pyplot.subplots()\n",
    "\n",
    "temp = df_model.describe().T.drop('truth')\n",
    "\n",
    "temp[['mean', '50%']].plot(ax=ax)\n",
    "ax.fill_between(PROBABILITIES, temp['25%'], temp['75%'], alpha=0.2)\n",
    "\n",
    "ax.set(\n",
    "    xlabel='probability / quantile',\n",
    "    ylabel='days of inactivity',\n",
    ")\n",
    "ax.yaxis.set_major_locator(matplotlib.ticker.MaxNLocator(integer=True))\n",
    "\n",
    "df_model[['truth']].quantile(PROBABILITIES).plot(ax=ax, style=':')\n",
    "\n",
    "ax.legend(['mean prediction', 'median prediction', 'actual (quantile)'], loc='upper left')\n",
    "\n",
    "savefig(fig, 'probability_quantile')"
   ]
  },
  {
   "cell_type": "markdown",
   "metadata": {},
   "source": [
    "### Over, under and exact estimations"
   ]
  },
  {
   "cell_type": "markdown",
   "metadata": {},
   "source": [
    "Our model provides predictions associated with different probabilities. Because these probabilities are somehow \"cumulative\" (because \"durations\" are!), the predicted durations are expected to represent upper bounds on the number of days of inactivity. The following plot shows the proportion of case (based on actual observations) where the predicted duration, for each probability class, is an exact estimation (not the purpose of the model), an underestimation (not the purpose of the model) or an overestimation. \n",
    "\n",
    "We show that our model is mostly \"efficient\" for larger probabilities. Starting from around 0.5, the sum of \"exact\" and \"overestimation\" (both form an \"upper bound\") reaches around 60% of the actual observations. We will see in another plot how this sum behaves w.r.t. the probabilities."
   ]
  },
  {
   "cell_type": "code",
   "execution_count": 31,
   "metadata": {},
   "outputs": [
    {
     "data": {
      "image/png": "[encoded data removed]",
      "text/plain": [
       "<Figure size 504x180 with 1 Axes>"
      ]
     },
     "metadata": {
      "needs_background": "light"
     },
     "output_type": "display_data"
    }
   ],
   "source": [
    "fig, ax = matplotlib.pyplot.subplots()\n",
    "\n",
    "_ = pandas.concat([\n",
    "    evaluate_rolling_model(df_model, 'strict lower'),\n",
    "    evaluate_rolling_model(df_model, 'strict upper'),\n",
    "    evaluate_rolling_model(df_model, 'exact')\n",
    "], axis=1).rename(columns={\n",
    "    'strict lower': 'underestimation',\n",
    "    'strict upper': 'overestimation',\n",
    "    'exact': 'exact estimation',\n",
    "})[['overestimation', 'exact estimation', 'underestimation']]\n",
    "\n",
    "for i, column in enumerate(_.columns):\n",
    "    _[column].plot(marker=markers[i], style='-', ax=ax, label=column)\n",
    "\n",
    "ax.legend()\n",
    "\n",
    "ax.set(\n",
    "    xlabel='probability',\n",
    "    ylabel='proportion of observations',\n",
    "    xlim=(0, 1),\n",
    "    ylim=(0, 1),\n",
    ")\n",
    "\n",
    "savefig(fig, 'over_underestimation')"
   ]
  },
  {
   "cell_type": "markdown",
   "metadata": {},
   "source": [
    "### Positive predictions w.r.t. probability and predicted value\n",
    "\n",
    "It's quite easy to create a model that will lead to similar results (p% of overestimations/upper bounds for probability p). It suffices to predict p% of the time a veeeery large value, and 100-p% a very small value. To show that our model is not behaving like that, and that the predicted bounds are \"quite tight\", we count the proportion of \"positive\" observations (i.e. observations that are lower or equal to the predicted upper bound), w.r.t. probabilities **and** predicted durations. \n",
    "\n",
    "We observe that the predictions made for lower probabilities are not very accurate (most of them are lower than the actual observations), but the predictions made for higher probabilities are quite accurate, even when the predicted value is low (which confirms that our model will not lead to \"huge overestimation\"."
   ]
  },
  {
   "cell_type": "code",
   "execution_count": 32,
   "metadata": {},
   "outputs": [
    {
     "data": {
      "image/png": "[encoded data removed]",
      "text/plain": [
       "<Figure size 504x180 with 2 Axes>"
      ]
     },
     "metadata": {
      "needs_background": "light"
     },
     "output_type": "display_data"
    }
   ],
   "source": [
    "fig, ax = matplotlib.pyplot.subplots()\n",
    "\n",
    "seaborn.heatmap(\n",
    "    vmin=0,\n",
    "    vmax=1,\n",
    "    data=pandas.concat([\n",
    "            df_model\n",
    "            .assign(correct=lambda d: d[p] >= d['truth'])\n",
    "            .groupby(p)\n",
    "            .agg({'correct': lambda s: s.sum() / len(s)})\n",
    "            .rename(columns={'correct': p})\n",
    "            .rename_axis('prediction')\n",
    "        for p in PROBABILITIES], axis=1\n",
    "    ).sort_index(ascending=False),\n",
    "    cbar_kws={'label': 'proportion of positive observations'},\n",
    "    cmap='RdYlGn',\n",
    "    ax=ax\n",
    ")\n",
    "\n",
    "ax.set(\n",
    "    xlabel='probability',\n",
    "    ylabel='prediction (as upper bound)',\n",
    ")\n",
    "\n",
    "savefig(fig, 'prediction_concordance')"
   ]
  },
  {
   "cell_type": "markdown",
   "metadata": {},
   "source": [
    "### Q-Q Plot (~ calibration plot / reliability diagram)\n",
    "\n",
    "From Wikipedia: Calibration can be assessed using a calibration plot (also called a reliability diagram). A calibration plot shows the proportion of items in each class for bands of predicted probability or score (such as a distorted probability distribution or the \"signed distance to the hyperplane\" in a support vector machine). Deviations from the identity function indicate a poorly-calibrated classifier for which the predicted probabilities or scores can not be used as probabilities. In this case one can use a method to turn these scores into properly calibrated class membership probabilities. (https://en.wikipedia.org/wiki/Probabilistic_classification#Probability_calibration)\n",
    "\n",
    "This analysis merely corresponds to the behaviour of aforementioned \"sum of exact + overestimation\". A perfectly concordant model will have e.g. 90% of the observations lower than the value predicted with 90% probability (and you can replace \"90\" by any other value 0 < x < 100). Here, we observe that our model is not that good but not that bad, in the sense that while it provides \"too high\" predictions for lower probabilities, but slightly \"too low\" predictions for high probabilities. It also shows that the model is quite accurate between probabilities 0.5 and 0.9."
   ]
  },
  {
   "cell_type": "code",
   "execution_count": 33,
   "metadata": {},
   "outputs": [
    {
     "data": {
      "image/png": "[encoded data removed]",
      "text/plain": [
       "<Figure size 504x180 with 1 Axes>"
      ]
     },
     "metadata": {
      "needs_background": "light"
     },
     "output_type": "display_data"
    }
   ],
   "source": [
    "fig, ax = matplotlib.pyplot.subplots()\n",
    "\n",
    "(\n",
    "    evaluate_rolling_model(df_model)\n",
    "    .plot(marker='.', ax=ax)\n",
    ")\n",
    "\n",
    "ax.set(\n",
    "    xlim=(0, 1),\n",
    "    xlabel='probability',\n",
    "    ylim=(0, 1),\n",
    "    ylabel='proportion of positive observations',\n",
    ")\n",
    "\n",
    "ax.plot([0, 1], [0, 1], linestyle='dashed', color='r', alpha=0.3)\n",
    "ax.legend(['considered model', 'perfect concordance'])\n",
    "\n",
    "savefig(fig, 'qqplot')"
   ]
  },
  {
   "cell_type": "code",
   "execution_count": 34,
   "metadata": {},
   "outputs": [
    {
     "data": {
      "text/html": [
       "<div>\n",
       "<style scoped>\n",
       "    .dataframe tbody tr th:only-of-type {\n",
       "        vertical-align: middle;\n",
       "    }\n",
       "\n",
       "    .dataframe tbody tr th {\n",
       "        vertical-align: top;\n",
       "    }\n",
       "\n",
       "    .dataframe thead th {\n",
       "        text-align: right;\n",
       "    }\n",
       "</style>\n",
       "<table border=\"1\" class=\"dataframe\">\n",
       "  <thead>\n",
       "    <tr style=\"text-align: right;\">\n",
       "      <th></th>\n",
       "      <th>upper</th>\n",
       "    </tr>\n",
       "    <tr>\n",
       "      <th>probability</th>\n",
       "      <th></th>\n",
       "    </tr>\n",
       "  </thead>\n",
       "  <tbody>\n",
       "    <tr>\n",
       "      <th>0.1</th>\n",
       "      <td>0.440777</td>\n",
       "    </tr>\n",
       "    <tr>\n",
       "      <th>0.2</th>\n",
       "      <td>0.454131</td>\n",
       "    </tr>\n",
       "    <tr>\n",
       "      <th>0.3</th>\n",
       "      <td>0.485681</td>\n",
       "    </tr>\n",
       "    <tr>\n",
       "      <th>0.4</th>\n",
       "      <td>0.528989</td>\n",
       "    </tr>\n",
       "    <tr>\n",
       "      <th>0.5</th>\n",
       "      <td>0.578475</td>\n",
       "    </tr>\n",
       "    <tr>\n",
       "      <th>0.6</th>\n",
       "      <td>0.640216</td>\n",
       "    </tr>\n",
       "    <tr>\n",
       "      <th>0.7</th>\n",
       "      <td>0.712358</td>\n",
       "    </tr>\n",
       "    <tr>\n",
       "      <th>0.8</th>\n",
       "      <td>0.799812</td>\n",
       "    </tr>\n",
       "    <tr>\n",
       "      <th>0.9</th>\n",
       "      <td>0.887010</td>\n",
       "    </tr>\n",
       "  </tbody>\n",
       "</table>\n",
       "</div>"
      ],
      "text/plain": [
       "                upper\n",
       "probability          \n",
       "0.1          0.440777\n",
       "0.2          0.454131\n",
       "0.3          0.485681\n",
       "0.4          0.528989\n",
       "0.5          0.578475\n",
       "0.6          0.640216\n",
       "0.7          0.712358\n",
       "0.8          0.799812\n",
       "0.9          0.887010"
      ]
     },
     "execution_count": 34,
     "metadata": {},
     "output_type": "execute_result"
    }
   ],
   "source": [
    "evaluate_rolling_model(df_model)"
   ]
  },
  {
   "cell_type": "markdown",
   "metadata": {},
   "source": [
    "### Errors wrt. predicted duration"
   ]
  },
  {
   "cell_type": "markdown",
   "metadata": {},
   "source": [
    "Here we looked at the difference between the predicted values and the actual observations. The true meaning of this difference (\"the error\") is difficult to estimate, because we are dealing with a (non-continuous) probabilistic model (hence, a \"predicted value\" cannot be directly compared to the observed value, as there is a probability associated with the prediction). There are approaches to compute a score based on this, but this score is not meaningful except when used to compare different models.\n",
    "\n",
    "Here, we observe that our model is \"better\" for higher probabilities (the error, both in absolute or relative values, is lower). However, we also observe that relative errors are quite high. The reason is that we're dealing with \"low values\". Remember from the quantiles of actual values that more than 50% of them are <=1. If prediction is 2 where actual value is 1, this leads to a relative error of 100%."
   ]
  },
  {
   "cell_type": "code",
   "execution_count": 35,
   "metadata": {},
   "outputs": [
    {
     "data": {
      "image/png": "[encoded data removed]",
      "text/plain": [
       "<Figure size 2016x180 with 4 Axes>"
      ]
     },
     "metadata": {
      "needs_background": "light"
     },
     "output_type": "display_data"
    }
   ],
   "source": [
    "KIND = [\n",
    "    ('absolute error', lambda d: d.apply(lambda s: (d['truth'] - s).clip(0))),\n",
    "    ('absolute error (excl. good predictions)', lambda d: d.apply(lambda s: (d['truth'] - s).clip(0).replace(0, pandas.np.nan))),\n",
    "    ('relative error', lambda d: d.apply(lambda s: (d['truth'] - s).clip(0) / d['truth'])),\n",
    "    ('relative error (excl. good predictions)', lambda d: d.apply(lambda s: ((d['truth'] - s) / d['truth']).clip(0).replace(0, pandas.np.nan))),\n",
    "]\n",
    "\n",
    "fig, axes = matplotlib.pyplot.subplots(ncols=len(KIND), sharex=True)\n",
    "fig.set_size_inches(FIG_SIZE[0] * len(KIND), FIG_SIZE[1])\n",
    "\n",
    "for i, (title, fun) in enumerate(KIND):\n",
    "    ax = axes[i]\n",
    "    \n",
    "    (\n",
    "        df_model\n",
    "        .pipe(fun)\n",
    "        [PROBABILITIES]\n",
    "        .plot.box(whis='range', ax=ax) # showmeans=True,\n",
    "    )\n",
    "\n",
    "    ax.set(\n",
    "        xlabel='probability',\n",
    "        ylabel=title,\n",
    "    )\n",
    "    if 'relative' not in title:\n",
    "        ax.set_yscale('log', nonposy='clip')"
   ]
  },
  {
   "cell_type": "markdown",
   "metadata": {},
   "source": [
    "### Distribution of values"
   ]
  },
  {
   "cell_type": "code",
   "execution_count": 36,
   "metadata": {},
   "outputs": [
    {
     "data": {
      "text/plain": [
       "[(-10, 25), Text(0.5, 0, 'probability')]"
      ]
     },
     "execution_count": 36,
     "metadata": {},
     "output_type": "execute_result"
    },
    {
     "data": {
      "image/png": "[encoded data removed]",
      "text/plain": [
       "<Figure size 504x180 with 1 Axes>"
      ]
     },
     "metadata": {
      "needs_background": "light"
     },
     "output_type": "display_data"
    }
   ],
   "source": [
    "fig, ax = matplotlib.pyplot.subplots()\n",
    "\n",
    "(\n",
    "    df_model\n",
    "    .drop(columns=['truth'])\n",
    "    .plot.box(showfliers=False, ax=ax)\n",
    ")\n",
    "\n",
    "ax.set(\n",
    "    xlabel='probability',\n",
    "\n",
    "    ylim=(-10, 25)\n",
    ")"
   ]
  },
  {
   "cell_type": "code",
   "execution_count": 37,
   "metadata": {},
   "outputs": [
    {
     "data": {
      "text/plain": [
       "0.1      0.942054\n",
       "0.2      0.834497\n",
       "0.3      0.688348\n",
       "0.4      0.523822\n",
       "0.5      0.369235\n",
       "0.6      0.234770\n",
       "0.7      0.133400\n",
       "0.8      0.066532\n",
       "0.9      0.030959\n",
       "truth    0.434237\n",
       "dtype: float64"
      ]
     },
     "execution_count": 37,
     "metadata": {},
     "output_type": "execute_result"
    }
   ],
   "source": [
    "(\n",
    "    df_model\n",
    "    .pipe(lambda d: d.apply(lambda s: s == 0)) \n",
    "    .mean()\n",
    ")"
   ]
  },
  {
   "cell_type": "code",
   "execution_count": 38,
   "metadata": {},
   "outputs": [
    {
     "data": {
      "text/plain": [
       "0.1      0.434237\n",
       "0.2      0.434237\n",
       "0.3      0.434237\n",
       "0.4      0.434237\n",
       "0.5      0.434237\n",
       "0.6      0.434237\n",
       "0.7      0.434237\n",
       "0.8      0.434237\n",
       "0.9      0.434237\n",
       "truth    0.434237\n",
       "dtype: float64"
      ]
     },
     "execution_count": 38,
     "metadata": {},
     "output_type": "execute_result"
    }
   ],
   "source": [
    "df_model[lambda d: d['truth'] == 0].count() / len(df_model)"
   ]
  },
  {
   "cell_type": "markdown",
   "metadata": {},
   "source": [
    "### Distribution of errors"
   ]
  },
  {
   "cell_type": "code",
   "execution_count": 39,
   "metadata": {},
   "outputs": [
    {
     "data": {
      "image/png": "[encoded data removed]",
      "text/plain": [
       "<Figure size 504x180 with 1 Axes>"
      ]
     },
     "metadata": {
      "needs_background": "light"
     },
     "output_type": "display_data"
    }
   ],
   "source": [
    "fig, ax = matplotlib.pyplot.subplots()\n",
    "\n",
    "(\n",
    "    df_model\n",
    "    .pipe(lambda d: d.apply(lambda s: s - d['truth'])) \n",
    "    .drop(columns=['truth'])\n",
    "    .plot.box(\n",
    "        meanprops={'marker': 'x'},\n",
    "        #medianprops=,\n",
    "        showmeans=True,\n",
    "        showfliers=False, \n",
    "        ax=ax\n",
    "    )\n",
    ")\n",
    "\n",
    "ax.axhline(0, color='black', alpha=0.5, linestyle='dashed')\n",
    "\n",
    "ax.set(\n",
    "    xlabel='probability',\n",
    "    ylabel='$\\\\leftarrow$underestimation\\noverestimation$\\\\rightarrow$\\n(in days)',\n",
    "    ylim=(-14, 19)\n",
    ")\n",
    "\n",
    "ax.yaxis.set_major_locator(matplotlib.ticker.MultipleLocator(base=5))\n",
    "\n",
    "savefig(fig, 'errors_distribution')"
   ]
  },
  {
   "cell_type": "code",
   "execution_count": 40,
   "metadata": {},
   "outputs": [
    {
     "data": {
      "text/html": [
       "<div>\n",
       "<style scoped>\n",
       "    .dataframe tbody tr th:only-of-type {\n",
       "        vertical-align: middle;\n",
       "    }\n",
       "\n",
       "    .dataframe tbody tr th {\n",
       "        vertical-align: top;\n",
       "    }\n",
       "\n",
       "    .dataframe thead th {\n",
       "        text-align: right;\n",
       "    }\n",
       "</style>\n",
       "<table border=\"1\" class=\"dataframe\">\n",
       "  <thead>\n",
       "    <tr style=\"text-align: right;\">\n",
       "      <th></th>\n",
       "      <th>0.1</th>\n",
       "      <th>0.2</th>\n",
       "      <th>0.3</th>\n",
       "      <th>0.4</th>\n",
       "      <th>0.5</th>\n",
       "      <th>0.6</th>\n",
       "      <th>0.7</th>\n",
       "      <th>0.8</th>\n",
       "      <th>0.9</th>\n",
       "    </tr>\n",
       "  </thead>\n",
       "  <tbody>\n",
       "    <tr>\n",
       "      <th>count</th>\n",
       "      <td>214993.000000</td>\n",
       "      <td>214993.000000</td>\n",
       "      <td>214993.000000</td>\n",
       "      <td>214993.000000</td>\n",
       "      <td>214993.000000</td>\n",
       "      <td>214993.000000</td>\n",
       "      <td>214993.000000</td>\n",
       "      <td>214993.000000</td>\n",
       "      <td>214993.000000</td>\n",
       "    </tr>\n",
       "    <tr>\n",
       "      <th>mean</th>\n",
       "      <td>-9.112022</td>\n",
       "      <td>-8.935277</td>\n",
       "      <td>-8.474890</td>\n",
       "      <td>-7.828041</td>\n",
       "      <td>-6.990018</td>\n",
       "      <td>-5.665375</td>\n",
       "      <td>-3.431158</td>\n",
       "      <td>1.376952</td>\n",
       "      <td>12.859088</td>\n",
       "    </tr>\n",
       "    <tr>\n",
       "      <th>std</th>\n",
       "      <td>34.570061</td>\n",
       "      <td>34.497288</td>\n",
       "      <td>34.336856</td>\n",
       "      <td>34.157830</td>\n",
       "      <td>33.966464</td>\n",
       "      <td>33.746942</td>\n",
       "      <td>33.572626</td>\n",
       "      <td>34.184367</td>\n",
       "      <td>41.555437</td>\n",
       "    </tr>\n",
       "    <tr>\n",
       "      <th>min</th>\n",
       "      <td>-1702.000000</td>\n",
       "      <td>-1701.000000</td>\n",
       "      <td>-1701.000000</td>\n",
       "      <td>-1699.000000</td>\n",
       "      <td>-1698.000000</td>\n",
       "      <td>-1697.000000</td>\n",
       "      <td>-1694.000000</td>\n",
       "      <td>-1687.000000</td>\n",
       "      <td>-1676.000000</td>\n",
       "    </tr>\n",
       "    <tr>\n",
       "      <th>25%</th>\n",
       "      <td>-5.000000</td>\n",
       "      <td>-5.000000</td>\n",
       "      <td>-4.000000</td>\n",
       "      <td>-4.000000</td>\n",
       "      <td>-3.000000</td>\n",
       "      <td>-2.000000</td>\n",
       "      <td>-1.000000</td>\n",
       "      <td>0.000000</td>\n",
       "      <td>2.000000</td>\n",
       "    </tr>\n",
       "    <tr>\n",
       "      <th>50%</th>\n",
       "      <td>-1.000000</td>\n",
       "      <td>-1.000000</td>\n",
       "      <td>-1.000000</td>\n",
       "      <td>0.000000</td>\n",
       "      <td>0.000000</td>\n",
       "      <td>0.000000</td>\n",
       "      <td>1.000000</td>\n",
       "      <td>2.000000</td>\n",
       "      <td>6.000000</td>\n",
       "    </tr>\n",
       "    <tr>\n",
       "      <th>75%</th>\n",
       "      <td>0.000000</td>\n",
       "      <td>0.000000</td>\n",
       "      <td>0.000000</td>\n",
       "      <td>0.000000</td>\n",
       "      <td>1.000000</td>\n",
       "      <td>2.000000</td>\n",
       "      <td>3.000000</td>\n",
       "      <td>7.000000</td>\n",
       "      <td>18.000000</td>\n",
       "    </tr>\n",
       "    <tr>\n",
       "      <th>max</th>\n",
       "      <td>14.000000</td>\n",
       "      <td>21.000000</td>\n",
       "      <td>29.000000</td>\n",
       "      <td>44.000000</td>\n",
       "      <td>62.000000</td>\n",
       "      <td>107.000000</td>\n",
       "      <td>178.000000</td>\n",
       "      <td>364.000000</td>\n",
       "      <td>676.000000</td>\n",
       "    </tr>\n",
       "  </tbody>\n",
       "</table>\n",
       "</div>"
      ],
      "text/plain": [
       "                 0.1            0.2            0.3            0.4  \\\n",
       "count  214993.000000  214993.000000  214993.000000  214993.000000   \n",
       "mean       -9.112022      -8.935277      -8.474890      -7.828041   \n",
       "std        34.570061      34.497288      34.336856      34.157830   \n",
       "min     -1702.000000   -1701.000000   -1701.000000   -1699.000000   \n",
       "25%        -5.000000      -5.000000      -4.000000      -4.000000   \n",
       "50%        -1.000000      -1.000000      -1.000000       0.000000   \n",
       "75%         0.000000       0.000000       0.000000       0.000000   \n",
       "max        14.000000      21.000000      29.000000      44.000000   \n",
       "\n",
       "                 0.5            0.6            0.7            0.8  \\\n",
       "count  214993.000000  214993.000000  214993.000000  214993.000000   \n",
       "mean       -6.990018      -5.665375      -3.431158       1.376952   \n",
       "std        33.966464      33.746942      33.572626      34.184367   \n",
       "min     -1698.000000   -1697.000000   -1694.000000   -1687.000000   \n",
       "25%        -3.000000      -2.000000      -1.000000       0.000000   \n",
       "50%         0.000000       0.000000       1.000000       2.000000   \n",
       "75%         1.000000       2.000000       3.000000       7.000000   \n",
       "max        62.000000     107.000000     178.000000     364.000000   \n",
       "\n",
       "                 0.9  \n",
       "count  214993.000000  \n",
       "mean       12.859088  \n",
       "std        41.555437  \n",
       "min     -1676.000000  \n",
       "25%         2.000000  \n",
       "50%         6.000000  \n",
       "75%        18.000000  \n",
       "max       676.000000  "
      ]
     },
     "execution_count": 40,
     "metadata": {},
     "output_type": "execute_result"
    }
   ],
   "source": [
    "(\n",
    "    df_model\n",
    "    .pipe(lambda d: d.apply(lambda s: s - d['truth'])) \n",
    "    .drop(columns=['truth'])\n",
    "    .describe()\n",
    ")"
   ]
  },
  {
   "cell_type": "markdown",
   "metadata": {},
   "source": [
    "### Distribution of errors, w.r.t. over- and underestimations"
   ]
  },
  {
   "cell_type": "code",
   "execution_count": 41,
   "metadata": {},
   "outputs": [
    {
     "data": {
      "image/png": "[encoded data removed]",
      "text/plain": [
       "<Figure size 504x180 with 1 Axes>"
      ]
     },
     "metadata": {
      "needs_background": "light"
     },
     "output_type": "display_data"
    }
   ],
   "source": [
    "fig, ax = matplotlib.pyplot.subplots()\n",
    "\n",
    "args = {\n",
    "    'showfliers': False,\n",
    "    'ax': ax\n",
    "}\n",
    "\n",
    "(\n",
    "    df_model\n",
    "    .pipe(lambda d: d.apply(lambda s: s - d['truth']))\n",
    "    .clip(lower=0)\n",
    "    .replace({0: pandas.np.nan})\n",
    "    .drop(columns=['truth'])\n",
    "    .plot.box(**args)\n",
    ")\n",
    "\n",
    "(\n",
    "    df_model\n",
    "    .pipe(lambda d: d.apply(lambda s: d['truth'] - s))\n",
    "    .clip(lower=0)\n",
    "    .replace({0: pandas.np.nan})\n",
    "    .pipe(lambda d: -1 * d)\n",
    "    .drop(columns=['truth'])\n",
    "    .plot.box(**args)\n",
    ")\n",
    "\n",
    "ax.axhline(0, color='gray', linestyle='dashed')\n",
    "\n",
    "ax.set(\n",
    "    xlabel='probability',\n",
    "    ylabel='$\\\\leftarrow$underestimation\\noverestimation$\\\\rightarrow$',\n",
    "    ylim=(-25, 25)\n",
    ")\n",
    "\n",
    "savefig(fig, 'errors_distribution_splitted')"
   ]
  },
  {
   "cell_type": "markdown",
   "metadata": {},
   "source": [
    "## Identifying the \"best\" window size"
   ]
  },
  {
   "cell_type": "markdown",
   "metadata": {},
   "source": [
    "So far we relied on a fixed window whose size if 'WINDOW_SIZE' (see constant in code).\n",
    "In this part of the notebook, we will run and evaluate the model using different window sizes. A large window size will allow the model to rely on many more information to perform its prediction. A small window size will force the model to focus on the \"very recent past\". "
   ]
  },
  {
   "cell_type": "code",
   "execution_count": 42,
   "metadata": {},
   "outputs": [],
   "source": [
    "WINDOW_SIZES = [10, 20, 30, 50, 75, 100]"
   ]
  },
  {
   "cell_type": "code",
   "execution_count": null,
   "metadata": {},
   "outputs": [],
   "source": [
    "df_results = dict()\n",
    "df_window = dict()"
   ]
  },
  {
   "cell_type": "code",
   "execution_count": 43,
   "metadata": {},
   "outputs": [],
   "source": [
    "# This cell is quite slow to run\n",
    "for size in WINDOW_SIZES:\n",
    "    df_window[size] = rolling_computation(df, window_size=size, probabilities=PROBABILITIES)\n",
    "    df_results[size] = evaluate_rolling_model(df_window[size])"
   ]
  },
  {
   "cell_type": "markdown",
   "metadata": {},
   "source": [
    "### Q-Q plots"
   ]
  },
  {
   "cell_type": "code",
   "execution_count": 44,
   "metadata": {},
   "outputs": [
    {
     "data": {
      "image/png": "[encoded data removed]",
      "text/plain": [
       "<Figure size 504x180 with 1 Axes>"
      ]
     },
     "metadata": {
      "needs_background": "light"
     },
     "output_type": "display_data"
    }
   ],
   "source": [
    "fig, ax = matplotlib.pyplot.subplots()\n",
    "\n",
    "for size in WINDOW_SIZES:\n",
    "    (\n",
    "        df_results[size]\n",
    "        .rename(columns={'upper': size})\n",
    "        .plot(marker='.', legend=False, ax=ax)\n",
    "    )\n",
    "    \n",
    "ax.legend(title='observations', ncol=2)\n",
    "\n",
    "ax.set(\n",
    "    xlim=(0, 1),\n",
    "    xlabel='probability',\n",
    "    ylim=(0, 1),\n",
    "    ylabel='proportion of positive observations',\n",
    ")\n",
    "\n",
    "ax.plot([0, 1], [0, 1], linestyle='dashed', color='r', alpha=0.3)\n",
    "\n",
    "savefig(fig, 'window_qqplot')"
   ]
  },
  {
   "cell_type": "markdown",
   "metadata": {},
   "source": [
    "### Difference with perfect concordance"
   ]
  },
  {
   "cell_type": "markdown",
   "metadata": {},
   "source": [
    "For each curve here above, we computed its difference with the \"perfect concordance\" line. \n",
    "We observe from the following (and previous) plot that higher window sizes lead to more overestimations for all probabilities (especially for lower ones)."
   ]
  },
  {
   "cell_type": "code",
   "execution_count": 48,
   "metadata": {},
   "outputs": [
    {
     "data": {
      "image/png": "[encoded data removed]",
      "text/plain": [
       "<Figure size 504x180 with 1 Axes>"
      ]
     },
     "metadata": {
      "needs_background": "light"
     },
     "output_type": "display_data"
    }
   ],
   "source": [
    "fig, ax = matplotlib.pyplot.subplots()\n",
    "\n",
    "for size in WINDOW_SIZES:\n",
    "    (\n",
    "        df_results[size]\n",
    "        .assign(error=lambda d: d['upper'] - d.index)\n",
    "        .rename(columns={'error': size})\n",
    "        [[size]]\n",
    "        .plot(legend=False, ax=ax)\n",
    "    )\n",
    "    \n",
    "ax.legend(title='# observations', ncol=2)\n",
    "\n",
    "ax.set(\n",
    "    xlim=(0, 1),\n",
    "    xlabel='probability',\n",
    "    #ylim=(-0.2, 1),\n",
    "    ylabel='(signed) deviation\\nfrom perfect concordance',\n",
    ")\n",
    "\n",
    "ax.plot([0, 1], [0, 0], color='k', alpha=0.3)\n",
    "\n",
    "savefig(fig, 'window_qqplot_difference')"
   ]
  },
  {
   "cell_type": "code",
   "execution_count": 64,
   "metadata": {},
   "outputs": [
    {
     "data": {
      "image/png": "[encoded data removed]",
      "text/plain": [
       "<Figure size 504x180 with 1 Axes>"
      ]
     },
     "metadata": {
      "needs_background": "light"
     },
     "output_type": "display_data"
    }
   ],
   "source": [
    "fig, ax = matplotlib.pyplot.subplots()\n",
    "fig.set_size_inches(FIG_SIZE)\n",
    "\n",
    "seaborn.barplot(\n",
    "    x='probability',\n",
    "    y='deviation', \n",
    "    hue='observations',\n",
    "    hue_order=[str(s) for s in WINDOW_SIZES],\n",
    "    data=(\n",
    "        pandas.concat([\n",
    "            df_results[size]\n",
    "            .assign(**{str(size): lambda d: d['upper'] - d.index})\n",
    "            [[str(size)]]\n",
    "            for size in WINDOW_SIZES], axis=1\n",
    "        ).reset_index(drop=False)\n",
    "        .melt(id_vars='probability', var_name='observations', value_name='deviation')\n",
    "    ),\n",
    "    palette=seaborn.color_palette(\"Paired\"),\n",
    "    ax=ax,\n",
    ")\n",
    "\n",
    "ax.legend(ncol=2, title='# observations')\n",
    "ax.set(\n",
    "    ylabel='(signed) deviation\\nfrom perfect concordance',\n",
    ")\n",
    "\n",
    "savefig(fig, 'window_qqplot_difference_bars')"
   ]
  },
  {
   "cell_type": "markdown",
   "metadata": {},
   "source": [
    "### Sum of squared deviation from perfect concordance\n",
    "\n",
    "Lower is better. "
   ]
  },
  {
   "cell_type": "code",
   "execution_count": 46,
   "metadata": {},
   "outputs": [
    {
     "name": "stdout",
     "output_type": "stream",
     "text": [
      "10 0.25251967893936456\n",
      "20 0.23992441226121386\n",
      "30 0.2495006121788256\n",
      "50 0.2734021294958607\n",
      "75 0.30406795580601786\n",
      "100 0.33762625941229973\n"
     ]
    }
   ],
   "source": [
    "for size in WINDOW_SIZES:\n",
    "    error = (\n",
    "        df_results[size]\n",
    "        .assign(error=lambda d: ((d['upper'] - d.index)**2))\n",
    "        ['error'].sum()\n",
    "    )\n",
    "    print(size, error)"
   ]
  }
 ],
 "metadata": {
  "kernelspec": {
   "display_name": "Python 3",
   "language": "python",
   "name": "python3"
  },
  "language_info": {
   "codemirror_mode": {
    "name": "ipython",
    "version": 3
   },
   "file_extension": ".py",
   "mimetype": "text/x-python",
   "name": "python",
   "nbconvert_exporter": "python",
   "pygments_lexer": "ipython3",
   "version": "3.5.9"
  }
 },
 "nbformat": 4,
 "nbformat_minor": 2
}
